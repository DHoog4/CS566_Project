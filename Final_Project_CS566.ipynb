{
 "cells": [
  {
   "cell_type": "code",
   "execution_count": 1,
   "id": "cbaa0633",
   "metadata": {},
   "outputs": [],
   "source": [
    "# RSA Encryption Algorithm: An In-Depth Review\n",
    "# By Subhajit Das and Daniel Hoogasian\n",
    "# Spring 2023 CS566\n",
    "\n",
    "'''\n",
    "Code in this cell adapted from:\n",
    "\n",
    "Title: modinverse.py\n",
    "Retrievel Date: 4/13/2023 \n",
    "Source: https://gist.github.com/ofaurax/6103869014c246f962ab30a513fb5b49\n",
    "'''\n",
    "\n",
    "import random\n",
    "import math\n",
    "\n",
    "# Greatest common denominator function\n",
    "def egcd(a, b):\n",
    "    if a == 0:\n",
    "        return (b, 0, 1)\n",
    "    g, y, x = egcd(b%a,a)\n",
    "    return (g, x - (b//a) * y, y)\n",
    "\n",
    "# Modular inverse function\n",
    "def modular_inverse(a, m):\n",
    "    g, x, y = egcd(a, m)\n",
    "    if g != 1:\n",
    "        raise Exception('No modular inverse')\n",
    "    return x%m"
   ]
  },
  {
   "cell_type": "code",
   "execution_count": 2,
   "id": "bd07cba2",
   "metadata": {},
   "outputs": [],
   "source": [
    "'''\n",
    "Code in this cell adapted from:\n",
    "\n",
    "Title: Foundations of Computer Science\n",
    "Retrievel Date: 4/13/2023 \n",
    "Source: https://www.teach.cs.toronto.edu/~csc110y/fall/notes/08-cryptography/05-rsa-cryptosystem-implementation.html\n",
    "'''\n",
    "# Function to generate key\n",
    "def rsa_generate_key(p: int, q: int) -> \\\n",
    "        tuple[tuple[int, int, int], tuple[int, int]]:\n",
    "\n",
    "    # Compute n\n",
    "    n = p * q\n",
    "\n",
    "    # Compute phi(n)\n",
    "    phi_n = (p - 1) * (q - 1)\n",
    "\n",
    "    # Randomly choose number for e until condition (i.e., it is relatively prime to phi(n))\n",
    "    # is satisfied\n",
    "    e = random.randint(2, phi_n - 1)\n",
    "    while math.gcd(e, phi_n) != 1:\n",
    "        e = random.randint(2, phi_n - 1)\n",
    "\n",
    "    # Calculate d\n",
    "    d = modular_inverse(e, phi_n)\n",
    "    print(\"Public key: \",(n, e), \"\\nPrivate key: \", (p, q, d))\n",
    "    \n",
    "    return ((p, q, d), (n, e))\n",
    "\n",
    "# Encryption function\n",
    "def rsa_encrypt_text(public_key: tuple[int, int], plaintext: str) -> str:\n",
    "    n, e = public_key\n",
    "\n",
    "    encrypted = ''\n",
    "    for letter in plaintext:\n",
    "        encrypted = encrypted + chr((ord(letter) ** e) % n)\n",
    "    print(\"Encrypted message: \", encrypted)\n",
    "    \n",
    "    return encrypted\n",
    "\n",
    "# Decryption function \n",
    "def rsa_decrypt_text(private_key: tuple[int, int, int], ciphertext: str) -> str:\n",
    "    p, q, d = private_key\n",
    "    n = p * q\n",
    "\n",
    "    decrypted = ''\n",
    "    for letter in ciphertext:\n",
    "        decrypted = decrypted + chr((ord(letter) ** d) % n)\n",
    "    print(\"Decrypted message: \", decrypted)\n",
    "    \n",
    "    return decrypted"
   ]
  },
  {
   "cell_type": "code",
   "execution_count": 3,
   "id": "ef13962d",
   "metadata": {},
   "outputs": [
    {
     "name": "stdout",
     "output_type": "stream",
     "text": [
      "Public key:  (133, 77) \n",
      "Private key:  (7, 19, 101)\n",
      "Encrypted message:  \u0018}X\n",
      "Decrypted message:  RSA\n"
     ]
    }
   ],
   "source": [
    "# Generate keys with our example\n",
    "rsa_chosen_numbers = rsa_generate_key(7, 19) # enter sample primes (we used 7 & 19)\n",
    "rsa_encrypt = rsa_encrypt_text(rsa_chosen_numbers[1], \"RSA\") # enter sample text (we used RSA)\n",
    "rsa_decrypt = rsa_decrypt_text(rsa_chosen_numbers[0], rsa_encrypt)"
   ]
  },
  {
   "cell_type": "code",
   "execution_count": 4,
   "id": "97194004",
   "metadata": {},
   "outputs": [
    {
     "name": "stdout",
     "output_type": "stream",
     "text": [
      "Public key:  (3601, 1271) \n",
      "Private key:  (277, 13, 2327)\n",
      "Encrypted message:  ̰Ζ׊\n",
      "Decrypted message:  RSA\n"
     ]
    }
   ],
   "source": [
    "'''\n",
    "Code in this and the next cell adapted from:\n",
    "\n",
    "Title: How to generate Large Prime numbers for RSA Algorithm\n",
    "Retrievel Date: 4/23/2023 \n",
    "Source: https://www.geeksforgeeks.org/how-to-generate-large-prime-numbers-for-rsa-algorithm/\n",
    "'''\n",
    "# Generate keys from list of pre generated primes\n",
    "first_primes_list = [2, 3, 5, 7, 11, 13, 17, 19, 23, 29,\n",
    "                     31, 37, 41, 43, 47, 53, 59, 61, 67,\n",
    "                     71, 73, 79, 83, 89, 97, 101, 103,\n",
    "                     107, 109, 113, 127, 131, 137, 139,\n",
    "                     149, 151, 157, 163, 167, 173, 179,\n",
    "                     181, 191, 193, 197, 199, 211, 223,\n",
    "                     227, 229, 233, 239, 241, 251, 257,\n",
    "                     263, 269, 271, 277, 281, 283, 293,\n",
    "                     307, 311, 313, 317, 331, 337, 347, 349]\n",
    "\n",
    "p = random.choice(first_primes_list)\n",
    "q = random.choice(first_primes_list)\n",
    "\n",
    "rsa_chosen_numbers = rsa_generate_key(p, q)\n",
    "rsa_encrypt = rsa_encrypt_text(rsa_chosen_numbers[1], \"RSA\") # enter sample text (we used RSA)\n",
    "rsa_decrypt = rsa_decrypt_text(rsa_chosen_numbers[0], rsa_encrypt)"
   ]
  },
  {
   "cell_type": "code",
   "execution_count": 5,
   "id": "4ff7da31",
   "metadata": {},
   "outputs": [
    {
     "name": "stdout",
     "output_type": "stream",
     "text": [
      "1024 bit prime p is: \n",
      " 95194907999042871840851778632615840623660582875195149073637134830043472547194324680940866405181181381840831074293369448004421045321867812270400214127795816220538187564374933637493735268467867158105398789216502441093868158408176843541556924419032130854641049320717278940627191749974884190374905478100112323799 \n",
      "\n",
      "1024 bit prime q is: \n",
      " 178138537473847906216395127367770637235525491864060087365392644609001564264368897744464436742649472101651929356044158026980204731222020283850585182860333935715408523262684300387800947252195693177362149324392480109596203757693281829106080270920120445619052929580083539501396267479100538159297487096293684027887\n"
     ]
    }
   ],
   "source": [
    "# Generate large prime numbers (this portion functions well on a traditional machine)\n",
    "\n",
    "# Generate random number for prime candidate\n",
    "def nBitRandom(n):\n",
    "    return random.randrange(2**(n-1)+1, 2**n - 1)\n",
    "\n",
    "# Division with First Primes (Low-Level Primality Test)\n",
    "def getLowLevelPrime(n):\n",
    "    while True:\n",
    "        # Obtain a random number\n",
    "        pc = nBitRandom(n)\n",
    " \n",
    "        # Test divisibility by pre-generated\n",
    "        # primes\n",
    "        for divisor in first_primes_list:\n",
    "            if pc % divisor == 0 and divisor**2 <= pc:\n",
    "                break\n",
    "        else:\n",
    "            return pc\n",
    "\n",
    "# Rabin Miller Primality Test (High-Level Primality Test)        \n",
    "def isMillerRabinPassed(mrc):\n",
    "    maxDivisionsByTwo = 0\n",
    "    ec = mrc-1\n",
    "    while ec % 2 == 0:\n",
    "        ec >>= 1\n",
    "        maxDivisionsByTwo += 1\n",
    "    assert(2**maxDivisionsByTwo * ec == mrc-1)\n",
    " \n",
    "    def trialComposite(round_tester):\n",
    "        if pow(round_tester, ec, mrc) == 1:\n",
    "            return False\n",
    "        for i in range(maxDivisionsByTwo):\n",
    "            if pow(round_tester, 2**i * ec, mrc) == mrc-1:\n",
    "                return False\n",
    "        return True\n",
    " \n",
    "    # Set number of trials here\n",
    "    numberOfRabinTrials = 20\n",
    "    for i in range(numberOfRabinTrials):\n",
    "        round_tester = random.randrange(2, mrc)\n",
    "        if trialComposite(round_tester):\n",
    "            return False\n",
    "    return True\n",
    " \n",
    "if __name__ == '__main__':\n",
    "    while True:\n",
    "        n = 1024\n",
    "        prime_candidate = getLowLevelPrime(n)\n",
    "        if not isMillerRabinPassed(prime_candidate):\n",
    "            continue\n",
    "        else:\n",
    "            print(n, \"bit prime p is: \\n\", prime_candidate, \"\\n\")\n",
    "            break\n",
    "p = prime_candidate\n",
    "\n",
    "if __name__ == '__main__':\n",
    "    while True:\n",
    "        n = 1024\n",
    "        prime_candidate_2 = getLowLevelPrime(n)\n",
    "        if not isMillerRabinPassed(prime_candidate_2):\n",
    "            continue\n",
    "        else:\n",
    "            print(n, \"bit prime q is: \\n\", prime_candidate_2)\n",
    "            break\n",
    "q = prime_candidate_2"
   ]
  },
  {
   "cell_type": "code",
   "execution_count": 6,
   "id": "fb68f047",
   "metadata": {},
   "outputs": [
    {
     "data": {
      "text/plain": [
       "'\\nrsa_chosen_numbers = rsa_generate_key(p, q)\\nrsa_encrypt = rsa_encrypt_text(rsa_chosen_numbers[1], \"RSA\") # enter sample text (we used RSA)\\nrsa_decrypt = rsa_decrypt_text(rsa_chosen_numbers[0], rsa_encrypt)\\n'"
      ]
     },
     "execution_count": 6,
     "metadata": {},
     "output_type": "execute_result"
    }
   ],
   "source": [
    "# This runs RSA with large primes (this part is too computationally expensive to run on a traditional machine)\n",
    "'''\n",
    "rsa_chosen_numbers = rsa_generate_key(p, q)\n",
    "rsa_encrypt = rsa_encrypt_text(rsa_chosen_numbers[1], \"RSA\") # enter sample text (we used RSA)\n",
    "rsa_decrypt = rsa_decrypt_text(rsa_chosen_numbers[0], rsa_encrypt)\n",
    "'''"
   ]
  }
 ],
 "metadata": {
  "kernelspec": {
   "display_name": "Python 3 (ipykernel)",
   "language": "python",
   "name": "python3"
  },
  "language_info": {
   "codemirror_mode": {
    "name": "ipython",
    "version": 3
   },
   "file_extension": ".py",
   "mimetype": "text/x-python",
   "name": "python",
   "nbconvert_exporter": "python",
   "pygments_lexer": "ipython3",
   "version": "3.9.12"
  }
 },
 "nbformat": 4,
 "nbformat_minor": 5
}
